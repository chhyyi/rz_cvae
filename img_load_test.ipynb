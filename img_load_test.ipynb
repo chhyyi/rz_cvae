{
 "cells": [
  {
   "cell_type": "markdown",
   "id": "4bb2dcd8",
   "metadata": {},
   "source": [
    "# about this notebook\n",
    "두 가지 변경사항을 python script들에 반영하기 전에 시험해본다. 변경 사항은 다음과 같다.  \n",
    "- img를 읽어올 때, json도 같이 읽어서 라벨 폴리곤을 그려넣는다. (B채널이 좋겠다)\n",
    "- img_generation_utils 의 batch generator도 바꿔서 파일 경로도 return 하도록 한다."
   ]
  },
  {
   "cell_type": "code",
   "execution_count": 1,
   "id": "e63a1579",
   "metadata": {},
   "outputs": [],
   "source": [
    "\n",
    "import argparse\n",
    "import json\n",
    "import os\n",
    "from matplotlib import pyplot as plt\n",
    "import sys\n",
    "\n",
    "import tensorflow as tf\n",
    "\n",
    "from rz_cvae.utils import batch_generator, convert_batch_to_image_grid, read_data\n",
    "\n",
    "# Read test_data.pickle \n",
    "test_data = read_data(\"./test_data\")\n",
    "\n",
    "#path = l/rz_cvae/image_data"
   ]
  },
  {
   "cell_type": "code",
   "execution_count": 3,
   "id": "5b363cd6",
   "metadata": {},
   "outputs": [
    {
     "data": {
      "text/plain": [
       "383"
      ]
     },
     "execution_count": 3,
     "metadata": {},
     "output_type": "execute_result"
    }
   ],
   "source": [
    "len(test_data['img_paths'])"
   ]
  },
  {
   "cell_type": "markdown",
   "id": "20c0dbb7",
   "metadata": {},
   "source": [
    "# 이미지 생성시 원본 경로도 출력하기\n",
    "원래 이런 코드로 실행된다. 이걸 하면 이미지만 출력하는 것이 아니라 file paths도 출력되게 만들자. 그리고 지정 이미지에서 만들 수 있게 해도 좋겠는데  \n",
    "```python\n",
    "test_data = read_data(\"./test_data\")\n",
    "image_reconstruction(model, test_data, save_path=None) \n",
    "```"
   ]
  },
  {
   "cell_type": "markdown",
   "id": "3b51c7a1",
   "metadata": {},
   "source": [
    "## rz_cvae/utils.py 의 함수"
   ]
  },
  {
   "cell_type": "code",
   "execution_count": 4,
   "id": "de823c24",
   "metadata": {},
   "outputs": [],
   "source": [
    "def create_image_batch(labels, model_name, use_train=False, path_return=False):\n",
    "    \"\"\"\n",
    "    Returns the list of images corresponding to the given labels.\n",
    "    \"\"\"\n",
    "    imgs = []\n",
    "    paths = []\n",
    "    imgs_id = [item[0] for item in labels]\n",
    "    \n",
    "    #hard code few lines...\n",
    "    test_data = read_data(\"./test_data\")\n",
    "    img_paths = test_data['img_paths'][-len(test_data['test_img_ids']):] # split of test_data paths\n",
    "    #img_paths = test_data['img_paths'][:-len(test_data['test_img_ids'])] # split of train_data paths\n",
    "    path_cols=[0,1]\n",
    "\n",
    "    for i in imgs_id:\n",
    "        img = []\n",
    "        for j in range(len(path_cols)):\n",
    "            image_path = img_paths[i][j]\n",
    "            paths.append(image_path)\n",
    "            img.append(get_image(image_path, model_name))\n",
    "        imgs.append(np.concatenate(tuple(img),axis=-1))\n",
    "    if path_return=True:\n",
    "        return imgs, paths\n",
    "    else:\n",
    "        return imgs\n",
    "\n",
    "def get_image(image_path, model_name, img_resize = 1024):\n",
    "    \"\"\"\n",
    "    Crops, resizes and normalizes the target image.\n",
    "        - If model_name == Dense, the image is returned as a flattened numpy array with dim (64*64*3)\n",
    "        - otherwise, the image is returned as a numpy array with dim (64,64,3)\n",
    "    \"\"\"\n",
    "\n",
    "    img = cv2.imread(image_path)\n",
    "    img = cv2.resize(img, (img_resize, img_resize))\n",
    "    img = np.array(img, dtype='float32')\n",
    "    img = cv2.cvtColor(img, cv2.COLOR_BGR2RGB)\n",
    "    img /= 255.0 # Normalization to [0.,1.]\n",
    "\n",
    "    if model_name == \"Dense\" :\n",
    "        img = img.ravel()\n",
    "    \n",
    "    return img\n",
    "\n",
    "def batch_generator(batch_dim, test_labels, model_name):\n",
    "    \"\"\"\n",
    "    Batch generator using the given list of labels.\n",
    "    \"\"\"\n",
    "    while True:\n",
    "        batch_imgs = []\n",
    "        labels = []\n",
    "        for label in (test_labels):\n",
    "            labels.append(label)\n",
    "            if len(labels) == batch_dim:\n",
    "                batch_imgs, img_paths = create_image_batch(labels, model_name, path_return=True)\n",
    "                batch_labels = [x[1] for x in labels]\n",
    "                yield np.asarray(batch_imgs), np.asarray(batch_labels), img_paths\n",
    "                batch_imgs = []\n",
    "                labels = []\n",
    "                batch_labels = []\n",
    "        if batch_imgs:\n",
    "            yield np.asarray(batch_imgs), np.asarray(batch_labels), img_paths"
   ]
  },
  {
   "cell_type": "markdown",
   "id": "33448a69",
   "metadata": {},
   "source": [
    "## img reconstruction 함수\n",
    "rz_cvae/image_generation_utils.py"
   ]
  },
  {
   "cell_type": "code",
   "execution_count": null,
   "id": "93d4dcf5",
   "metadata": {},
   "outputs": [],
   "source": [
    "def image_reconstruction(model, test_data, save_path=None):\n",
    "    \"\"\"\n",
    "    Reconstructs and plots a bacth of test images.\n",
    "    \"\"\"\n",
    "\n",
    "    batch_gen, paths = batch_generator(test_data['batch_size'], test_data['test_img_ids'], model_name = 'Conv')\n",
    "    images, labels= next(batch_gen)\n",
    "    model_output= model((images, labels), is_train = False)\n",
    "    \n",
    "    print(paths)\n",
    "    \n",
    "    f = plt.figure(figsize=(24,60))\n",
    "    ax = f.add_subplot(1,2,1)\n",
    "    ax.imshow(convert_batch_to_image_grid(images))\n",
    "    plt.axis('off')\n",
    "\n",
    "    ax = f.add_subplot(1,2,2)\n",
    "    ax.imshow(convert_batch_to_image_grid(model_output['recon_img'].numpy()))\n",
    "    plt.axis('off')\n",
    "    \n",
    "    if save_path :\n",
    "        plt.savefig(save_path + \"reconstruction.png\")\n",
    "\n",
    "    plt.show()\n",
    "    plt.clf()\n",
    "\n",
    "    print(\"Reconstruction of a batch of test set images.\")\n"
   ]
  },
  {
   "cell_type": "code",
   "execution_count": null,
   "id": "3a4b8a8c",
   "metadata": {},
   "outputs": [],
   "source": [
    "batch_gen = batch_generator(test_data['batch_size'], test_data['test_img_ids'], test_data['img_paths'], model_name = 'Conv')"
   ]
  },
  {
   "cell_type": "code",
   "execution_count": 5,
   "id": "5dc4d1c1",
   "metadata": {},
   "outputs": [
    {
     "data": {
      "text/plain": [
       "383"
      ]
     },
     "execution_count": 5,
     "metadata": {},
     "output_type": "execute_result"
    }
   ],
   "source": [
    "len(test_data['img_paths'])"
   ]
  },
  {
   "cell_type": "code",
   "execution_count": 6,
   "id": "f4f7fad2",
   "metadata": {},
   "outputs": [
    {
     "data": {
      "text/plain": [
       "20"
      ]
     },
     "execution_count": 6,
     "metadata": {},
     "output_type": "execute_result"
    }
   ],
   "source": [
    "len(test_data['test_img_ids'])"
   ]
  },
  {
   "cell_type": "code",
   "execution_count": 11,
   "id": "e47a5527",
   "metadata": {},
   "outputs": [],
   "source": [
    "td=test_data['img_paths'][-len(test_data['test_img_ids']):]"
   ]
  },
  {
   "cell_type": "code",
   "execution_count": 14,
   "id": "dc33a8f4",
   "metadata": {},
   "outputs": [
    {
     "data": {
      "text/plain": [
       "array([['sample_img/imgCrop_RI/20200928_13_RI.JPG.jpg',\n",
       "        'sample_img/imgCrop_CHL/20200928_13_CHL.JPG.jpg'],\n",
       "       ['sample_img/imgCrop_RI/20200928_14_RI.JPG.jpg',\n",
       "        'sample_img/imgCrop_CHL/20200928_14_CHL.JPG.jpg'],\n",
       "       ['sample_img/imgCrop_RI/20200928_15_RI.JPG.jpg',\n",
       "        'sample_img/imgCrop_CHL/20200928_15_CHL.JPG.jpg'],\n",
       "       ['sample_img/imgCrop_RI/20200928_16_RI.JPG.jpg',\n",
       "        'sample_img/imgCrop_CHL/20200928_16_CHL.JPG.jpg'],\n",
       "       ['sample_img/imgCrop_RI/20200929_09_RI.JPG.jpg',\n",
       "        'sample_img/imgCrop_CHL/20200929_09_CHL.JPG.jpg'],\n",
       "       ['sample_img/imgCrop_RI/20200929_10_RI.JPG.jpg',\n",
       "        'sample_img/imgCrop_CHL/20200929_10_CHL.JPG.jpg'],\n",
       "       ['sample_img/imgCrop_RI/20200929_11_RI.JPG.jpg',\n",
       "        'sample_img/imgCrop_CHL/20200929_11_CHL.JPG.jpg'],\n",
       "       ['sample_img/imgCrop_RI/20200929_12_RI.JPG.jpg',\n",
       "        'sample_img/imgCrop_CHL/20200929_12_CHL.JPG.jpg'],\n",
       "       ['sample_img/imgCrop_RI/20200929_13_RI.JPG.jpg',\n",
       "        'sample_img/imgCrop_CHL/20200929_13_CHL.JPG.jpg'],\n",
       "       ['sample_img/imgCrop_RI/20200929_14_RI.JPG.jpg',\n",
       "        'sample_img/imgCrop_CHL/20200929_14_CHL.JPG.jpg'],\n",
       "       ['sample_img/imgCrop_RI/20200929_15_RI.JPG.jpg',\n",
       "        'sample_img/imgCrop_CHL/20200929_15_CHL.JPG.jpg'],\n",
       "       ['sample_img/imgCrop_RI/20200929_16_RI.JPG.jpg',\n",
       "        'sample_img/imgCrop_CHL/20200929_16_CHL.JPG.jpg'],\n",
       "       ['sample_img/imgCrop_RI/20200930_09_RI.JPG.jpg',\n",
       "        'sample_img/imgCrop_CHL/20200930_09_CHL.JPG.jpg'],\n",
       "       ['sample_img/imgCrop_RI/20200930_10_RI.JPG.jpg',\n",
       "        'sample_img/imgCrop_CHL/20200930_10_CHL.JPG.jpg'],\n",
       "       ['sample_img/imgCrop_RI/20200930_11_RI.JPG.jpg',\n",
       "        'sample_img/imgCrop_CHL/20200930_11_CHL.JPG.jpg'],\n",
       "       ['sample_img/imgCrop_RI/20200930_12_RI.JPG.jpg',\n",
       "        'sample_img/imgCrop_CHL/20200930_12_CHL.JPG.jpg'],\n",
       "       ['sample_img/imgCrop_RI/20200930_13_RI.JPG.jpg',\n",
       "        'sample_img/imgCrop_CHL/20200930_13_CHL.JPG.jpg'],\n",
       "       ['sample_img/imgCrop_RI/20200930_14_RI.JPG.jpg',\n",
       "        'sample_img/imgCrop_CHL/20200930_14_CHL.JPG.jpg'],\n",
       "       ['sample_img/imgCrop_RI/20200930_15_RI.JPG.jpg',\n",
       "        'sample_img/imgCrop_CHL/20200930_15_CHL.JPG.jpg'],\n",
       "       ['sample_img/imgCrop_RI/20200930_16_RI.JPG.jpg',\n",
       "        'sample_img/imgCrop_CHL/20200930_16_CHL.JPG.jpg']], dtype=object)"
      ]
     },
     "execution_count": 14,
     "metadata": {},
     "output_type": "execute_result"
    }
   ],
   "source": [
    "td"
   ]
  },
  {
   "cell_type": "code",
   "execution_count": null,
   "id": "ba5896fe",
   "metadata": {},
   "outputs": [],
   "source": []
  }
 ],
 "metadata": {
  "kernelspec": {
   "display_name": "Python 3 (ipykernel)",
   "language": "python",
   "name": "python3"
  },
  "language_info": {
   "codemirror_mode": {
    "name": "ipython",
    "version": 3
   },
   "file_extension": ".py",
   "mimetype": "text/x-python",
   "name": "python",
   "nbconvert_exporter": "python",
   "pygments_lexer": "ipython3",
   "version": "3.9.7"
  }
 },
 "nbformat": 4,
 "nbformat_minor": 5
}
